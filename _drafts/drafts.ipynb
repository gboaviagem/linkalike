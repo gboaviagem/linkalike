{
 "cells": [
  {
   "cell_type": "code",
   "execution_count": null,
   "metadata": {},
   "outputs": [],
   "source": [
    "import pathlib\n",
    "import sys\n",
    "sys.path.insert(0, str(pathlib.Path().absolute().parent))"
   ]
  },
  {
   "cell_type": "code",
   "execution_count": null,
   "metadata": {},
   "outputs": [],
   "source": [
    "from linkalike.datasets import movielens100k\n",
    "\n",
    "data, users, items = movielens100k()\n",
    "users.drop(columns=['zip_code'], inplace=True)\n",
    "data['rating'] = (data['rating'].to_numpy() > 3).astype(int)"
   ]
  },
  {
   "cell_type": "code",
   "execution_count": null,
   "metadata": {},
   "outputs": [],
   "source": [
    "import numpy as np\n",
    "from sklearn.preprocessing import KBinsDiscretizer\n",
    "\n",
    "kbins = KBinsDiscretizer(n_bins=5, encode='ordinal', strategy='quantile')\n",
    "\n",
    "uid = \"user_id\"\n",
    "iid = \"item_id\"\n",
    "\n",
    "num_cols = users.drop(columns=[uid]).select_dtypes(include=np.number).columns\n",
    "kbins.fit(users[num_cols])\n",
    "users[[f\"{c}_BIN\" for c in num_cols]] = kbins.transform(users[num_cols]).astype(int).astype(str)\n",
    "users.drop(columns=num_cols, inplace=True)\n",
    "users"
   ]
  },
  {
   "cell_type": "code",
   "execution_count": null,
   "metadata": {},
   "outputs": [],
   "source": [
    "import networkx as nx\n",
    "\n",
    "G = nx.DiGraph()\n",
    "interactions = data[data['rating'] == 1]\n",
    "elist = [tuple(e)for e in interactions[[uid, iid]].to_numpy()]\n",
    "G.add_edges_from(elist)"
   ]
  },
  {
   "cell_type": "code",
   "execution_count": null,
   "metadata": {},
   "outputs": [],
   "source": [
    "from linkalike.utils.utils import pairwise_dissimilarities\n",
    "\n",
    "dist_df = pairwise_dissimilarities(users, verbose=True)\n",
    "dist_df\n",
    "\n"
   ]
  },
  {
   "cell_type": "code",
   "execution_count": null,
   "metadata": {},
   "outputs": [],
   "source": []
  },
  {
   "cell_type": "code",
   "execution_count": null,
   "metadata": {},
   "outputs": [],
   "source": []
  }
 ],
 "metadata": {
  "interpreter": {
   "hash": "ad7b04062b11f2f32ad39128cacc2a2bd2b4eeeabc2c58ebe8810cf900e3775b"
  },
  "kernelspec": {
   "display_name": "Python 3.7.11 ('gspx')",
   "language": "python",
   "name": "python3"
  },
  "language_info": {
   "codemirror_mode": {
    "name": "ipython",
    "version": 3
   },
   "file_extension": ".py",
   "mimetype": "text/x-python",
   "name": "python",
   "nbconvert_exporter": "python",
   "pygments_lexer": "ipython3",
   "version": "3.7.11"
  },
  "orig_nbformat": 4
 },
 "nbformat": 4,
 "nbformat_minor": 2
}
