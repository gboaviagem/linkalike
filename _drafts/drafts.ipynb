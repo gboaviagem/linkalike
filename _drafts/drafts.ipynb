{
 "cells": [
  {
   "cell_type": "code",
   "execution_count": 7,
   "metadata": {},
   "outputs": [],
   "source": [
    "import numpy as np\n",
    "\n",
    "lipsum = \"Lorem ipsum dolor sit amet\"\n",
    "lipsum = lipsum.split(\" \")"
   ]
  },
  {
   "cell_type": "code",
   "execution_count": 8,
   "metadata": {},
   "outputs": [],
   "source": [
    "import pathlib\n",
    "import sys\n",
    "sys.path.insert(0, str(pathlib.Path().absolute().parent))"
   ]
  },
  {
   "cell_type": "code",
   "execution_count": 9,
   "metadata": {},
   "outputs": [
    {
     "data": {
      "text/plain": [
       "array([['sit', 'amet', 'dolor', 'amet'],\n",
       "       ['amet', 'ipsum', 'dolor', 'dolor'],\n",
       "       ['dolor', 'amet', 'sit', 'dolor'],\n",
       "       ['amet', 'ipsum', 'sit', 'ipsum'],\n",
       "       ['sit', 'amet', 'Lorem', 'sit'],\n",
       "       ['ipsum', 'amet', 'sit', 'Lorem'],\n",
       "       ['Lorem', 'dolor', 'dolor', 'ipsum']], dtype=object)"
      ]
     },
     "execution_count": 9,
     "metadata": {},
     "output_type": "execute_result"
    }
   ],
   "source": [
    "import pandas as pd\n",
    "\n",
    "N = 7\n",
    "nodes = [f\"n{i}\" for i in range(N)]\n",
    "\n",
    "rnd = np.random.RandomState(seed=42)\n",
    "df = pd.DataFrame(rnd.choice(lipsum, size=(N, 4), replace=True), index=nodes)\n",
    "df.to_numpy()"
   ]
  },
  {
   "cell_type": "code",
   "execution_count": 11,
   "metadata": {},
   "outputs": [
    {
     "name": "stderr",
     "output_type": "stream",
     "text": [
      "100%|██████████| 7/7 [00:00<00:00, 9483.25it/s]\n"
     ]
    },
    {
     "data": {
      "text/plain": [
       "[[0, 3, 3, 4, 2, 3, 3],\n",
       " [3, 0, 3, 2, 4, 4, 3],\n",
       " [3, 3, 0, 3, 3, 2, 4],\n",
       " [4, 2, 3, 0, 4, 3, 3],\n",
       " [2, 4, 3, 4, 0, 3, 4],\n",
       " [3, 4, 2, 3, 3, 0, 4],\n",
       " [3, 3, 4, 3, 4, 4, 0]]"
      ]
     },
     "execution_count": 11,
     "metadata": {},
     "output_type": "execute_result"
    }
   ],
   "source": [
    "from linkalike.utils.utils import pairwise_dissimilarities\n",
    "\n",
    "dist_df = pairwise_dissimilarities(df, verbose=True)\n",
    "dist_df.to_numpy().tolist()"
   ]
  },
  {
   "cell_type": "code",
   "execution_count": null,
   "metadata": {},
   "outputs": [],
   "source": []
  },
  {
   "cell_type": "code",
   "execution_count": null,
   "metadata": {},
   "outputs": [],
   "source": []
  }
 ],
 "metadata": {
  "interpreter": {
   "hash": "ad7b04062b11f2f32ad39128cacc2a2bd2b4eeeabc2c58ebe8810cf900e3775b"
  },
  "kernelspec": {
   "display_name": "Python 3.7.11 ('gspx')",
   "language": "python",
   "name": "python3"
  },
  "language_info": {
   "codemirror_mode": {
    "name": "ipython",
    "version": 3
   },
   "file_extension": ".py",
   "mimetype": "text/x-python",
   "name": "python",
   "nbconvert_exporter": "python",
   "pygments_lexer": "ipython3",
   "version": "3.7.11"
  },
  "orig_nbformat": 4
 },
 "nbformat": 4,
 "nbformat_minor": 2
}
